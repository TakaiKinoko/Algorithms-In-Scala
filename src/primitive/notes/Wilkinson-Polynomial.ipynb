{
 "metadata": {
  "language": "Julia",
  "name": "",
  "signature": "sha256:958f9a3c7eaa83db95057436458b624b2c2c3ea8b23297d659bd4a898827604d"
 },
 "nbformat": 3,
 "nbformat_minor": 0,
 "worksheets": [
  {
   "cells": [
    {
     "cell_type": "heading",
     "level": 1,
     "metadata": {},
     "source": [
      "Studying Wilkinson\u2019s Polynomial in Julia"
     ]
    },
    {
     "cell_type": "markdown",
     "metadata": {},
     "source": [
      "Wilkinson\u2019s polynomial is\n",
      "$$\n",
      "w(x) = (x-1)(x-2)\\cdots(x-20)\n",
      "$$\n",
      "and is famous because it illustrates the exponential sensitivity of the roots of a polynomial to its coefficients.   The exact roots are obviously $1,\\ldots,20$, but if you perturb the coefficients of $w$ even by a tiny amount you find that the roots change drastically.\n",
      "\n",
      "In this notebook, we illustrate this sensitivity in the Julia language, and along the way we illustrate Julia's facilities for defining new types and operations by defining a simple polynomial type `Poly`."
     ]
    },
    {
     "cell_type": "heading",
     "level": 2,
     "metadata": {},
     "source": [
      "Implementing Simple Polynomial Operations in Julia"
     ]
    },
    {
     "cell_type": "markdown",
     "metadata": {},
     "source": [
      "To perform basic polynomial operations in Julia, we would normally use an existing package.  The [Polynomials package](https://github.com/Keno/Polynomials.jl) by Keno Fischer implements all of the operations that we need here, as does the [SymPy package](https://github.com/jverzani/SymPy.jl) (a wrapper around the very powerful Python [sympy](http://www.sympy.org/en/index.html) symbolic-mathematics library).\n",
      "\n",
      "However, it is pretty simple to implement our own polynomial type `Poly` that supports pretty-printing and basic operations like `+` and `*`, and we will do that here for pedagogical purposes."
     ]
    },
    {
     "cell_type": "code",
     "collapsed": false,
     "input": [
      "# A simple type for polynomials: just a wrapper around an array c of the coefficients.\n",
      "# This type is parameterized by the type T of the coefficients (e.g. integers, complex numbers,\n",
      "# or even matrices).  Parametric types like this allow Julia to have both fast type-specialized code\n",
      "# and at the same time have code that is generic over many different types.\n",
      "type Poly{T}\n",
      "    c::Vector{T} # coefficients of type T, in ascending order by degree\n",
      "end"
     ],
     "language": "python",
     "metadata": {},
     "outputs": [],
     "prompt_number": 1
    },
    {
     "cell_type": "code",
     "collapsed": false,
     "input": [
      "Poly([1,4,5])"
     ],
     "language": "python",
     "metadata": {},
     "outputs": [
      {
       "metadata": {},
       "output_type": "pyout",
       "prompt_number": 2,
       "text": [
        "Poly{Int64}([1,4,5])"
       ]
      }
     ],
     "prompt_number": 2
    },
    {
     "cell_type": "heading",
     "level": 3,
     "metadata": {},
     "source": [
      "Pretty-printing"
     ]
    },
    {
     "cell_type": "markdown",
     "metadata": {},
     "source": [
      "Now we have a container for the coefficients, but it displays as just a list of coefficients as seen above.   We can define `writemime` [methods in Julia](http://docs.julialang.org/en/latest/stdlib/io-network/#multimedia-i-o) that tell Julia how to display an object in different output types, from `text/plain` (for plain-text output) to graphical formats like `image/png`.  In particular, IJulia (via IPython) has the ability to display formatted LaTeX equations, so we can display the polynomial as LaTeX simply by defining a `writemime` method for the `text/latex` [MIME type](http://en.wikipedia.org/wiki/Internet_media_type).\n",
      "\n",
      "I initially made this pretty simple, but I got a little carried away by having special cases for coefficients of $0$, $\\pm 1$, etcetera, to make the equations look just the way I wanted:"
     ]
    },
    {
     "cell_type": "code",
     "collapsed": false,
     "input": [
      "function printmonomial(io, c::Real, p, printsign=false) # pretty-print monomial c*x^p\n",
      "    if c > 0\n",
      "        printsign && print(io, \"+\")\n",
      "        (c != 1 || p == 0) && print(io, c)\n",
      "    elseif c < 0\n",
      "        if c == -1 && p != 0\n",
      "            printsign && print(io, \"-\")\n",
      "        else\n",
      "            print(io, c)\n",
      "        end\n",
      "    end\n",
      "    if c != 0\n",
      "        if p == 1\n",
      "            print(io, \"x\")\n",
      "        elseif p != 0\n",
      "            print(io, \"x^{\", p, \"}\")\n",
      "        end\n",
      "    end\n",
      "end\n",
      "function Base.writemime{T<:Real}(io::IO, ::MIME\"text/latex\", p::Poly{T})\n",
      "    i0 = findfirst(p.c)\n",
      "    if i0 == 0 # no non-zero coefficients\n",
      "        print(io, \"\\$0\\$\")\n",
      "    else\n",
      "        print(io, \"\\$\")\n",
      "        printmonomial(io, p.c[i0], i0-1, false)\n",
      "        for i = i0+1:length(p.c)\n",
      "            printmonomial(io, p.c[i], i-1, true)\n",
      "        end\n",
      "        print(io, \"\\$\")\n",
      "    end\n",
      "end"
     ],
     "language": "python",
     "metadata": {},
     "outputs": [
      {
       "metadata": {},
       "output_type": "pyout",
       "prompt_number": 22,
       "text": [
        "writemime (generic function with 22 methods)"
       ]
      }
     ],
     "prompt_number": 22
    },
    {
     "cell_type": "markdown",
     "metadata": {},
     "source": [
      "Now, it looks pretty nice:"
     ]
    },
    {
     "cell_type": "code",
     "collapsed": false,
     "input": [
      "Poly([0,4,-5])"
     ],
     "language": "python",
     "metadata": {},
     "outputs": [
      {
       "latex": [
        "$4x-5x^{2}$"
       ],
       "metadata": {},
       "output_type": "pyout",
       "prompt_number": 4,
       "text": [
        "Poly{Int64}([0,4,-5])"
       ]
      }
     ],
     "prompt_number": 4
    },
    {
     "cell_type": "markdown",
     "metadata": {},
     "source": [
      "Note that the method was defined as `writemime{T<:Real}(io::IO, ::MIME\"text/latex\", p::Poly{T})`.  The `T<:Real` (read as \"`T` is a subtype of `Real`\") bit means that this output method only applies to polynomials over real coefficients, since checking whether the coefficients are positive or negative (in order to print $4x -5x^2$ rather than $4x + -5x^2$) is not generally defined for non-real types.  So, e.g. polynomials with complex coefficients are not pretty-printed:"
     ]
    },
    {
     "cell_type": "code",
     "collapsed": false,
     "input": [
      "Poly([1+3im, 4+5im])"
     ],
     "language": "python",
     "metadata": {},
     "outputs": [
      {
       "metadata": {},
       "output_type": "pyout",
       "prompt_number": 5,
       "text": [
        "Poly{Complex{Int64}}(Complex{Int64}[1 + 3im,4 + 5im])"
       ]
      }
     ],
     "prompt_number": 5
    },
    {
     "cell_type": "heading",
     "level": 3,
     "metadata": {},
     "source": [
      "Polynomial operations"
     ]
    },
    {
     "cell_type": "markdown",
     "metadata": {},
     "source": [
      "Now, let's define some basic operations on polynomials: addition, subtraction, and multiplication of polynomials, or of polynomials with numbers.   We do that by extending Julia's built-in `+`, `-`, and `*` functions with new methods that apply to our new `Poly` type.\n",
      "\n",
      "There are some slightly tricky aspects to the code below, mainly because I made `Poly` parametric on the coefficient type `T`.  What happens if you add two polynomials whose coefficients are of different types?   This is resolved by calling Julia's `promote_type` function on the two coefficient types to decide on the type of the resulting coefficient.  Julia is very powerful in this respect: it allows you to [define new type-promotion rules](http://julia.readthedocs.org/en/latest/manual/conversion-and-promotion/), and this kind of fine-grained access to promotion machinery is essential to define a new type that interoperates smoothly with other types."
     ]
    },
    {
     "cell_type": "code",
     "collapsed": false,
     "input": [
      "import Base: +, -, *, zero, one  # import operations in order to add new methods\n",
      "\n",
      "# Addition of two polynomials:\n",
      "# Since + and - operations are almost the same code, I will use a trick: Julia's\n",
      "# metaprogramming facilities (such as @eval) allow us to write code that writes code.\n",
      "# So, we define the function once, and then @eval it twice for op=+ and op=-.\n",
      "for op in (:+, :-)\n",
      "    @eval function $op{T1,T2}(p1::Poly{T1}, p2::Poly{T2})\n",
      "        c = Array(promote_type(T1,T2), max(length(p1.c), length(p2.c)))\n",
      "        for i = 1:length(c)\n",
      "            c[i] = $op(get(p1.c,i,zero(T1)), get(p2.c, i, zero(T2)))\n",
      "        end\n",
      "        return Poly(resize!(c, findlast(c)))\n",
      "    end\n",
      "end\n",
      "\n",
      "# Many functions like sum and prod require that we define zero and one methods,\n",
      "# in addition to + and *, to return the additive and multiplicative identities:\n",
      "zero{T}(::Type{Poly{T}}) = Poly(T[])\n",
      "one{T}(::Type{Poly{T}}) = Poly(T[one(T)])\n",
      "\n",
      "# Addition and multiplication by scalars: just convert the scalar into a degree-0 polynomial\n",
      "for op in (:+, :-, :*)\n",
      "    @eval $op{T1,T2<:Number}(p1::Poly{T1}, x::T2) = $op(p1, Poly([x]))\n",
      "    @eval $op{T1,T2<:Number}(x::T2, p1::Poly{T1}) = $op(Poly([x]), p1)\n",
      "end\n",
      "\n",
      "# polynomial multiplication by the trivial O(n\u00b2) algorithm\n",
      "function *{T1,T2}(p1::Poly{T1}, p2::Poly{T2})\n",
      "    T = promote_type(T1,T2)\n",
      "    if isempty(p1.c) || isempty(p2.c)\n",
      "        return zero(Poly{T})\n",
      "    end\n",
      "    c = zeros(T, length(p1.c) + length(p2.c) - 1)\n",
      "    for i1 = 1:length(p1.c), i2 = 1:length(p2.c)\n",
      "        c[i1+i2-1] += p1.c[i1] * p2.c[i2]\n",
      "    end\n",
      "    return Poly(resize!(c, findlast(c)))\n",
      "end"
     ],
     "language": "python",
     "metadata": {},
     "outputs": [
      {
       "metadata": {},
       "output_type": "pyout",
       "prompt_number": 19,
       "text": [
        "* (generic function with 126 methods)"
       ]
      }
     ],
     "prompt_number": 19
    },
    {
     "cell_type": "markdown",
     "metadata": {},
     "source": [
      "Now, let's try a few examples to make sure it is working:"
     ]
    },
    {
     "cell_type": "code",
     "collapsed": false,
     "input": [
      "Poly([3,4,5]) - Poly([3,4,7])"
     ],
     "language": "python",
     "metadata": {},
     "outputs": [
      {
       "latex": [
        "$-2x^{2}$"
       ],
       "metadata": {},
       "output_type": "pyout",
       "prompt_number": 8,
       "text": [
        "Poly{Int64}([0,0,-2])"
       ]
      }
     ],
     "prompt_number": 8
    },
    {
     "cell_type": "code",
     "collapsed": false,
     "input": [
      "Poly([3,4,5]) + 2"
     ],
     "language": "python",
     "metadata": {},
     "outputs": [
      {
       "latex": [
        "$5+4x+5x^{2}$"
       ],
       "metadata": {},
       "output_type": "pyout",
       "prompt_number": 9,
       "text": [
        "Poly{Int64}([5,4,5])"
       ]
      }
     ],
     "prompt_number": 9
    },
    {
     "cell_type": "code",
     "collapsed": false,
     "input": [
      "Poly([3,4,5]) * 2"
     ],
     "language": "python",
     "metadata": {},
     "outputs": [
      {
       "latex": [
        "$6+8x+10x^{2}$"
       ],
       "metadata": {},
       "output_type": "pyout",
       "prompt_number": 10,
       "text": [
        "Poly{Int64}([6,8,10])"
       ]
      }
     ],
     "prompt_number": 10
    },
    {
     "cell_type": "code",
     "collapsed": false,
     "input": [
      "Poly([3,4,5])^2"
     ],
     "language": "python",
     "metadata": {},
     "outputs": [
      {
       "latex": [
        "$9+24x+46x^{2}+40x^{3}+25x^{4}$"
       ],
       "metadata": {},
       "output_type": "pyout",
       "prompt_number": 11,
       "text": [
        "Poly{Int64}([9,24,46,40,25])"
       ]
      }
     ],
     "prompt_number": 11
    },
    {
     "cell_type": "markdown",
     "metadata": {},
     "source": [
      "Note that, although we didn't explicitly define an exponentiation (`^`) operator for `Poly`, we get one for free as a result of defining `*` and `one`.  Similarly, we also get functions `sum` and `prod`."
     ]
    },
    {
     "cell_type": "heading",
     "level": 3,
     "metadata": {},
     "source": [
      "Pretty polynomial entry"
     ]
    },
    {
     "cell_type": "markdown",
     "metadata": {},
     "source": [
      "It's annoying to type `Poly([3,4,5])` all the time.  Instead, if we just define a constant `x` to be the polynomial of degree 1, then we can type polynomials in the more natural notation `3+4x+5x^2` (which combines the polynomials and scalars by our `*` and `+` operations from above):"
     ]
    },
    {
     "cell_type": "code",
     "collapsed": false,
     "input": [
      "const x = Poly([0,1])"
     ],
     "language": "python",
     "metadata": {},
     "outputs": [
      {
       "latex": [
        "$x$"
       ],
       "metadata": {},
       "output_type": "pyout",
       "prompt_number": 12,
       "text": [
        "Poly{Int64}([0,1])"
       ]
      }
     ],
     "prompt_number": 12
    },
    {
     "cell_type": "code",
     "collapsed": false,
     "input": [
      "(3+4x+5x^2) * (1-x)"
     ],
     "language": "python",
     "metadata": {},
     "outputs": [
      {
       "latex": [
        "$3+x+x^{2}-5x^{3}$"
       ],
       "metadata": {},
       "output_type": "pyout",
       "prompt_number": 24,
       "text": [
        "Poly{Int64}([3,1,1,-5])"
       ]
      }
     ],
     "prompt_number": 24
    },
    {
     "cell_type": "heading",
     "level": 2,
     "metadata": {},
     "source": [
      "Roots of Polynomials"
     ]
    },
    {
     "cell_type": "markdown",
     "metadata": {},
     "source": [
      "As proved by the [Abel\u2013Ruffini theorem](http://en.wikipedia.org/wiki/Abel%E2%80%93Ruffini_theorem), there is no closed-form expression for the solution of generic polynomial roots for degrees greater than 4.   However, there are many algorithms that can iteratively compute roots to any desired accuracy (given sufficient computational power).   We will try two of them here: [Newton's method](http://en.wikipedia.org/wiki/Newton%27s_method) and [companion-matrix methods](http://en.wikipedia.org/wiki/Companion_matrix)."
     ]
    },
    {
     "cell_type": "heading",
     "level": 3,
     "metadata": {},
     "source": [
      "Newton's method"
     ]
    },
    {
     "cell_type": "markdown",
     "metadata": {},
     "source": [
      "Newton's method solves for the root $f(x)=0$ of an arbitrary differentiable function $f$ by repeatedly iterating $x \\leftarrow x - f(x)/f'(x)$, and converges quadratically *if* $x$ starts sufficiently close to the root.\n",
      "\n",
      "To implement this for polynomials, we need functions to differentiate and evaluate polynomials:"
     ]
    },
    {
     "cell_type": "code",
     "collapsed": false,
     "input": [
      "# return the derivative (polynomial) of the polynomial p\n",
      "function Base.diff{T1}(p::Poly{T1})\n",
      "    T = promote_type(T1,Int)\n",
      "    length(p.c) < 2 && return zero(Poly{T})\n",
      "    c = T[i*p.c[i+1] for i = 1:length(p.c)-1]\n",
      "    return Poly(c)\n",
      "end\n",
      "\n",
      "# evaluate p(x) by Horner's rule.  In Julia 0.4, we could use the nicer syntax p(x)\n",
      "function evalpoly{T}(p::Poly{T}, x)\n",
      "    s = zero(promote_type(T, typeof(x)))\n",
      "    for i = length(p.c):-1:1\n",
      "        s = x * s + p.c[i]\n",
      "    end\n",
      "    return s\n",
      "end"
     ],
     "language": "python",
     "metadata": {},
     "outputs": [
      {
       "metadata": {},
       "output_type": "pyout",
       "prompt_number": 25,
       "text": [
        "evalpoly (generic function with 1 method)"
       ]
      }
     ],
     "prompt_number": 25
    },
    {
     "cell_type": "code",
     "collapsed": false,
     "input": [
      "diff(3+4x+5x^2)"
     ],
     "language": "python",
     "metadata": {},
     "outputs": [
      {
       "latex": [
        "$4+10x$"
       ],
       "metadata": {},
       "output_type": "pyout",
       "prompt_number": 26,
       "text": [
        "Poly{Int64}([4,10])"
       ]
      }
     ],
     "prompt_number": 26
    },
    {
     "cell_type": "code",
     "collapsed": false,
     "input": [
      "evalpoly(3+4x+5x^2, 2) - (3 + 4*2 + 5*4)"
     ],
     "language": "python",
     "metadata": {},
     "outputs": [
      {
       "metadata": {},
       "output_type": "pyout",
       "prompt_number": 27,
       "text": [
        "0"
       ]
      }
     ],
     "prompt_number": 27
    },
    {
     "cell_type": "markdown",
     "metadata": {},
     "source": [
      "Given these functions, it is trivial to implement Newton's method for iterating from an initial guess $z$ until the change in $z$ is small according to some relative tolerance:"
     ]
    },
    {
     "cell_type": "code",
     "collapsed": false,
     "input": [
      "function newtonroot(p::Poly, z, tol=0.1*sqrt(eps()))\n",
      "    d = diff(p)\n",
      "    while true\n",
      "        \u0394z = evalpoly(d, z) \\ evalpoly(p, z)\n",
      "        z -= \u0394z\n",
      "        norm(\u0394z) \u2264 norm(z) * tol && break\n",
      "    end\n",
      "    return z\n",
      "end"
     ],
     "language": "python",
     "metadata": {},
     "outputs": [
      {
       "metadata": {},
       "output_type": "pyout",
       "prompt_number": 28,
       "text": [
        "newtonroot (generic function with 2 methods)"
       ]
      }
     ],
     "prompt_number": 28
    },
    {
     "cell_type": "code",
     "collapsed": false,
     "input": [
      "newtonroot((x-3)*(x-4), 3.1)"
     ],
     "language": "python",
     "metadata": {},
     "outputs": [
      {
       "metadata": {},
       "output_type": "pyout",
       "prompt_number": 29,
       "text": [
        "3.0000000000000004"
       ]
      }
     ],
     "prompt_number": 29
    },
    {
     "cell_type": "markdown",
     "metadata": {},
     "source": [
      "One fun exercise is to plot the [Newton fractal](http://en.wikipedia.org/wiki/Newton_fractal) for a given polynomial: for each point $z$ in the complex plane, assign it a different color depending on which root the Newton iteration converges to for that starting $z$:"
     ]
    },
    {
     "cell_type": "code",
     "collapsed": false,
     "input": [
      "using PyPlot"
     ],
     "language": "python",
     "metadata": {},
     "outputs": [],
     "prompt_number": 31
    },
    {
     "cell_type": "code",
     "collapsed": false,
     "input": [
      "\u03be\u2080 = 5\n",
      "\u03be = linspace(-\u03be\u2080,\u03be\u2080,600)\n",
      "p = Poly(randn(6)+im*randn(6)) # a degree-5 polynomial with random complex coefficients\n",
      "r = Complex128[newtonroot(p, x + im*y) for y in \u03be, x in \u03be]\n",
      "imshow(angle(r)/\u03c0, extent=(-\u03be\u2080,\u03be\u2080,-\u03be\u2080,\u03be\u2080), cmap=\"hsv\")\n",
      "xlabel(L\"\\Re z\")\n",
      "ylabel(L\"\\Im z\")\n",
      "title(\"Newton fractal for roots of random degree-5 polynomial\")\n",
      "colorbar(label=\"phase angle of root / \u03c0\")"
     ],
     "language": "python",
     "metadata": {},
     "outputs": [
      {
       "metadata": {},
       "output_type": "display_data",
       "png": "[encoded data removed]",
       "text": [
        "PyPlot.Figure(PyObject <matplotlib.figure.Figure object at 0x316dbbf50>)"
       ]
      },
      {
       "metadata": {},
       "output_type": "pyout",
       "prompt_number": 42,
       "text": [
        "PyObject <matplotlib.colorbar.Colorbar instance at 0x3216b6878>"
       ]
      }
     ],
     "prompt_number": 42
    },
    {
     "cell_type": "heading",
     "level": 3,
     "metadata": {},
     "source": [
      "Companion matrices"
     ]
    },
    {
     "cell_type": "markdown",
     "metadata": {},
     "source": [
      "Given a polynomial $p(x) = c_0 + c_1 x + \\cdots + c_{m-1} x^{m-1} + x^m$, an $m \\times m$ [companion matrix](http://en.wikipedia.org/wiki/Companion_matrix) $C$ is one for which the characteristic polynomial $\\det(C-xI)$ is equal to $p(x)$ (or just proportional to $p$ would be enough for our purposes).  This means that the roots of $p$ are identical to the eigenvalues of $C$ (up to roundoff errors), and we can use an eigensolver like Julia's built-in `eigvals` function to find the roots.   One such matrix is:\n",
      "$$\n",
      "C = \\begin{pmatrix}\n",
      "          0 & 0 & 0 & \\cdots & 0 & 0 & -c_0 \\\\\n",
      "          1 & 0 & 0 & \\cdots & 0 & 0 & -c_1 \\\\\n",
      "          0 & 1 & 0 & \\cdots & 0 & 0 & -c_2 \\\\\n",
      "          0 & 0 & 1 & \\cdots & 0 & 0 & -c_3 \\\\\n",
      "          \\vdots & \\vdots & \\vdots & \\ddots & \\vdots & \\vdots & \\vdots \\\\\n",
      "          0 & 0 & 0 & \\cdots & 1 & 0 & -c_{m-2} \\\\\n",
      "          0 & 0 & 0 & \\cdots & 0 & 1 & -c_{m-1}\n",
      "    \\end{pmatrix}\n",
      "$$\n",
      "Note that there is no loss of generality in setting the coefficient of $x^m$ to $1$, since for any degree-$m$ polynomial we can simply divide it by the coefficient of $x^m$ in order to put it into this form (without changing the roots).\n",
      "\n",
      "Here is a function in Julia that finds the roots of a polynomial $p$ by this method:"
     ]
    },
    {
     "cell_type": "code",
     "collapsed": false,
     "input": [
      "function roots{T<:Number}(p::Poly{T})\n",
      "    m = findlast(p.c) - 1\n",
      "    C = zeros(typeof(float(p.c[1])), m, m)\n",
      "    for i = 1:m-1\n",
      "        C[i+1,i] = 1\n",
      "    end\n",
      "    for i = 1:m\n",
      "        C[i,m] = -p.c[i] / p.c[m+1]\n",
      "    end\n",
      "    return eigvals(C)\n",
      "end"
     ],
     "language": "python",
     "metadata": {},
     "outputs": [
      {
       "metadata": {},
       "output_type": "pyout",
       "prompt_number": 43,
       "text": [
        "roots (generic function with 1 method)"
       ]
      }
     ],
     "prompt_number": 43
    },
    {
     "cell_type": "code",
     "collapsed": false,
     "input": [
      "roots((x-3)*(x-4))"
     ],
     "language": "python",
     "metadata": {},
     "outputs": [
      {
       "metadata": {},
       "output_type": "pyout",
       "prompt_number": 44,
       "text": [
        "2-element Array{Float64,1}:\n",
        " 3.0\n",
        " 4.0"
       ]
      }
     ],
     "prompt_number": 44
    },
    {
     "cell_type": "heading",
     "level": 2,
     "metadata": {},
     "source": [
      "Wilkinson\u2019s Polynomial"
     ]
    },
    {
     "cell_type": "markdown",
     "metadata": {},
     "source": [
      "Finally, we are ready to look at Wilkinson's polynomial $\\prod_{n=1}^{20} (x - n)$.   Given the machinery above, we can just use the built-in `prod` function for this (which is automatically defined given `*` and `one`).   The coefficients of this polynomial are extremely large integers, and in fact they [overflow](http://en.wikipedia.org/wiki/Integer_overflow) 64-bit integers, so we use the 128-bit integer type `Int128` instead:"
     ]
    },
    {
     "cell_type": "code",
     "collapsed": false,
     "input": [
      "p = prod([x - int128(n) for n in 1:20])"
     ],
     "language": "python",
     "metadata": {},
     "outputs": [
      {
       "latex": [
        "$2432902008176640000-8752948036761600000x+13803759753640704000x^{2}-12870931245150988800x^{3}+8037811822645051776x^{4}-3599979517947607200x^{5}+1206647803780373360x^{6}-311333643161390640x^{7}+63030812099294896x^{8}-10142299865511450x^{9}+1307535010540395x^{10}-135585182899530x^{11}+11310276995381x^{12}-756111184500x^{13}+40171771630x^{14}-1672280820x^{15}+53327946x^{16}-1256850x^{17}+20615x^{18}-210x^{19}+x^{20}$"
       ],
       "metadata": {},
       "output_type": "pyout",
       "prompt_number": 46,
       "text": [
        "Poly{Int128}(Int128[2432902008176640000,-8752948036761600000,13803759753640704000,-12870931245150988800,8037811822645051776,-3599979517947607200,1206647803780373360,-311333643161390640,63030812099294896,-10142299865511450  \u2026  -135585182899530,11310276995381,-756111184500,40171771630,-1672280820,53327946,-1256850,20615,-210,1])"
       ]
      }
     ],
     "prompt_number": 46
    },
    {
     "cell_type": "markdown",
     "metadata": {},
     "source": [
      "For comparison, let's try 64-bit integers and also arbitrary precision integers (via `big`):"
     ]
    },
    {
     "cell_type": "code",
     "collapsed": false,
     "input": [
      "# this produces a nonzero result: 64 bits are too small to prevent overflow:\n",
      "p - prod([x - int64(n) for n in 1:20])"
     ],
     "language": "python",
     "metadata": {},
     "outputs": [
      {
       "latex": [
        "$18446744073709551616x^{2}-18446744073709551616x^{3}$"
       ],
       "metadata": {},
       "output_type": "pyout",
       "prompt_number": 51,
       "text": [
        "Poly{Int128}(Int128[0,0,18446744073709551616,-18446744073709551616])"
       ]
      }
     ],
     "prompt_number": 51
    },
    {
     "cell_type": "code",
     "collapsed": false,
     "input": [
      "# this produces zero, indicating that 128 bits is enough:\n",
      "p - prod([x - big(n) for n in 1:20])"
     ],
     "language": "python",
     "metadata": {},
     "outputs": [
      {
       "latex": [
        "$0$"
       ],
       "metadata": {},
       "output_type": "pyout",
       "prompt_number": 52,
       "text": [
        "Poly{Base.GMP.BigInt}(Base.GMP.BigInt[])"
       ]
      }
     ],
     "prompt_number": 52
    },
    {
     "cell_type": "markdown",
     "metadata": {},
     "source": [
      "The roots of this are, by construction, the integers $1,\\ldots,20$, as we can check by $evalpoly$ (which, given an integer argument, will evaluate the polynomial exactly in 128-bit integer arithmetic):"
     ]
    },
    {
     "cell_type": "code",
     "collapsed": false,
     "input": [
      "[evalpoly(p, n) for n in 1:20]"
     ],
     "language": "python",
     "metadata": {},
     "outputs": [
      {
       "metadata": {},
       "output_type": "pyout",
       "prompt_number": 53,
       "text": [
        "20-element Array{Any,1}:\n",
        " 0\n",
        " 0\n",
        " 0\n",
        " 0\n",
        " 0\n",
        " 0\n",
        " 0\n",
        " 0\n",
        " 0\n",
        " 0\n",
        " 0\n",
        " 0\n",
        " 0\n",
        " 0\n",
        " 0\n",
        " 0\n",
        " 0\n",
        " 0\n",
        " 0\n",
        " 0"
       ]
      }
     ],
     "prompt_number": 53
    },
    {
     "cell_type": "markdown",
     "metadata": {},
     "source": [
      "However, as soon as we convert to floating-point values (which involves rounding since the default double precision has only a 53-bit significand), these roots are changed:"
     ]
    },
    {
     "cell_type": "code",
     "collapsed": false,
     "input": [
      "roots(p)"
     ],
     "language": "python",
     "metadata": {},
     "outputs": [
      {
       "metadata": {},
       "output_type": "pyout",
       "prompt_number": 54,
       "text": [
        "20-element Array{Complex{Float64},1}:\n",
        "     1.0+0.0im     \n",
        "     2.0+0.0im     \n",
        "     3.0+0.0im     \n",
        "     4.0+0.0im     \n",
        "     5.0+0.0im     \n",
        " 6.00005+0.0im     \n",
        " 6.99956+0.0im     \n",
        " 8.00289+0.0im     \n",
        " 8.98669+0.0im     \n",
        "   10.05+0.0im     \n",
        "  10.886+0.0im     \n",
        " 12.3587+0.0im     \n",
        " 12.5612+0.0im     \n",
        "  14.519+0.213305im\n",
        "  14.519-0.213305im\n",
        " 16.2068+0.0im     \n",
        " 16.8857+0.0im     \n",
        " 18.0301+0.0im     \n",
        " 18.9939+0.0im     \n",
        " 20.0005+0.0im     "
       ]
      }
     ],
     "prompt_number": 54
    },
    {
     "cell_type": "markdown",
     "metadata": {},
     "source": [
      "The results are not exactly $1,\\ldots,20$ for two reasons: rounding errors in converting the polynomial to floating point, and rounding errors in the eigenvalue computation.   We can also employ Newton's method on the initial guesses $1,\\ldots,20$ to see what we get:"
     ]
    },
    {
     "cell_type": "code",
     "collapsed": false,
     "input": [
      "# in double precision\n",
      "[newtonroot(p, float64(n)) for n in 1:20]"
     ],
     "language": "python",
     "metadata": {},
     "outputs": [
      {
       "metadata": {},
       "output_type": "pyout",
       "prompt_number": 55,
       "text": [
        "20-element Array{Any,1}:\n",
        "  1.0    \n",
        "  2.0    \n",
        "  3.0    \n",
        "  4.0    \n",
        "  5.0    \n",
        "  6.0    \n",
        "  7.0    \n",
        "  8.00004\n",
        "  8.99993\n",
        "  9.99998\n",
        " 11.0005 \n",
        " 11.9997 \n",
        " 13.0038 \n",
        " 13.9951 \n",
        " 15.0008 \n",
        " 15.9972 \n",
        " 17.0015 \n",
        " 18.0009 \n",
        " 19.0001 \n",
        " 20.0    "
       ]
      }
     ],
     "prompt_number": 55
    },
    {
     "cell_type": "code",
     "collapsed": false,
     "input": [
      "# in bigfloat (default ~80 decimal digits) precision\n",
      "[newtonroot(p, BigFloat(n)) for n in 1:20]"
     ],
     "language": "python",
     "metadata": {},
     "outputs": [
      {
       "metadata": {},
       "output_type": "pyout",
       "prompt_number": 56,
       "text": [
        "20-element Array{Any,1}:\n",
        " 1e+00  \n",
        " 2e+00  \n",
        " 3e+00  \n",
        " 4e+00  \n",
        " 5e+00  \n",
        " 6e+00  \n",
        " 7e+00  \n",
        " 8e+00  \n",
        " 9e+00  \n",
        " 1e+01  \n",
        " 1.1e+01\n",
        " 1.2e+01\n",
        " 1.3e+01\n",
        " 1.4e+01\n",
        " 1.5e+01\n",
        " 1.6e+01\n",
        " 1.7e+01\n",
        " 1.8e+01\n",
        " 1.9e+01\n",
        " 2e+01  "
       ]
      }
     ],
     "prompt_number": 56
    },
    {
     "cell_type": "markdown",
     "metadata": {},
     "source": [
      "(We can't currently use `roots` in anything greater than double precision, since Julia 0.3 does not have an arbitrary-precision eigensolver.)"
     ]
    },
    {
     "cell_type": "heading",
     "level": 3,
     "metadata": {},
     "source": [
      "Perturbing Wilkinson's polynomial"
     ]
    },
    {
     "cell_type": "markdown",
     "metadata": {},
     "source": [
      "Finally, let us perform Wilkinson's experiment: we will randomly perturb each coefficient in the tenth significant digit (i.e. we multiply each coefficients by $1+\\epsilon$ where $\\epsilon$ is a Gaussian random variable with root-mean-square $10^{-10}$) and plot the new roots in the complex plane.   (We will repeat the experiment several times and plot the roots in different colors.)"
     ]
    },
    {
     "cell_type": "code",
     "collapsed": false,
     "input": [
      "# functions to randomly perturb a polynomial, and to plot the roots\n",
      "perturb(p::Poly, tol) = Poly([c * (1 + tol*randn()) for c in p.c])\n",
      "function plotroots(p::Poly, args...; kws...)\n",
      "    r = roots(p)\n",
      "    plot(real(r), imag(r), args...; kws...)\n",
      "end\n",
      "\n",
      "plot(1:20, zeros(20), \"ro\")\n",
      "plotroots(perturb(p, 1e-10), \"k.\")\n",
      "plotroots(perturb(p, 1e-10), \"b.\")\n",
      "plotroots(perturb(p, 1e-10), \"g.\")\n",
      "plotroots(perturb(p, 1e-10), \"m.\")\n",
      "plotroots(perturb(p, 1e-10), \"c.\")\n",
      "plotroots(perturb(p, 1e-10), \"y.\")\n",
      "xlabel(L\"\\Re z\")\n",
      "ylabel(L\"\\Im z\")\n",
      "title(\"roots of perturbed Wilkinson polynomial\")"
     ],
     "language": "python",
     "metadata": {},
     "outputs": [
      {
       "metadata": {},
       "output_type": "display_data",
       "png": "[encoded data removed]",
       "text": [
        "PyPlot.Figure(PyObject <matplotlib.figure.Figure object at 0x31cd85890>)"
       ]
      },
      {
       "metadata": {},
       "output_type": "pyout",
       "prompt_number": 59,
       "text": [
        "PyObject <matplotlib.text.Text object at 0x31ffd31d0>"
       ]
      }
     ],
     "prompt_number": 59
    },
    {
     "cell_type": "markdown",
     "metadata": {},
     "source": [
      "As we can see, essentially all significant digits of the roots are lost (except for the first 5 roots)!\n",
      "\n",
      "In general, this means that it is typically problematic to express a high-degree polynomial in terms of the coefficients of the monic polynomials $x^k$ if you are interested in its roots.  On the other hand the roots can sometimes be computed accurately for polynomials written (implicitly or explicitly) in other forms.  For example, if you have a large matrix $A$ and want its eigenvalues, you should never compute the coefficients of the characteristic polynomial $\\det(A - \\lambda I)$ explicitly, since in doing so you can easily lose everything to roundoff errors.  Work with the matrix $A$ directly instead (which *implicitly* defines the polynomial)."
     ]
    }
   ],
   "metadata": {}
  }
 ]
}