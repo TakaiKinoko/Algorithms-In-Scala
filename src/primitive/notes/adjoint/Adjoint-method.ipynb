{
 "cells": [
  {
   "cell_type": "markdown",
   "metadata": {},
   "source": [
    "## Recurrence relation\n",
    "\n",
    "This is an example from my [notes on adjoint methods for recurrence relations](http://math.mit.edu/~stevenj/18.336/recurrence2.pdf).\n",
    "\n",
    "In particular, we have a simple linear recurrence:\n",
    "$$\n",
    "x^n = Ax^{n-1} + \\begin{pmatrix} 0 \\\\ p_n \\end{pmatrix}\n",
    "$$\n",
    "in terms of parameters $p$, with initial condition:\n",
    "$$\n",
    "x^0 = b = \\begin{pmatrix} 1 \\\\ 0 \\end{pmatrix}\n",
    "$$\n",
    "and\n",
    "$$\n",
    "A = \\begin{pmatrix} \\cos\\theta & \\sin\\theta \\\\ -\\sin\\theta & \\cos\\theta \\end{pmatrix}\n",
    "$$\n",
    "We execute this recurrence for $N$ steps, and at the end we compute $g(p) = (x^N_2)^2$.  The goal is to compute the partial derivatives $d g / d p_n$ for $n = 1,\\ldots,N$."
   ]
  },
  {
   "cell_type": "code",
   "execution_count": 3,
   "metadata": {
    "collapsed": false
   },
   "outputs": [
    {
     "data": {
      "text/plain": [
       "2-element Array{Int64,1}:\n",
       " 1\n",
       " 0"
      ]
     },
     "execution_count": 3,
     "metadata": {},
     "output_type": "execute_result"
    }
   ],
   "source": [
    "θ = 0.1\n",
    "A = [ cos(θ) sin(θ); -sin(θ) cos(θ)]\n",
    "N = 100\n",
    "p = rand(N)\n",
    "b = [1,0]"
   ]
  },
  {
   "cell_type": "code",
   "execution_count": 4,
   "metadata": {
    "collapsed": false
   },
   "outputs": [
    {
     "data": {
      "text/plain": [
       "recurrence (generic function with 1 method)"
      ]
     },
     "execution_count": 4,
     "metadata": {},
     "output_type": "execute_result"
    }
   ],
   "source": [
    "# compute xᴺ\n",
    "function recurrence(A, b, p)\n",
    "    x = b\n",
    "    for i = 1:length(p)\n",
    "        x = A * x + [0,p[i]]\n",
    "    end\n",
    "    return x\n",
    "end"
   ]
  },
  {
   "cell_type": "code",
   "execution_count": 5,
   "metadata": {
    "collapsed": false
   },
   "outputs": [
    {
     "data": {
      "text/plain": [
       "2-element Array{Float64,1}:\n",
       "  9.29829\n",
       " -3.75176"
      ]
     },
     "execution_count": 5,
     "metadata": {},
     "output_type": "execute_result"
    }
   ],
   "source": [
    "recurrence(A, b, p)"
   ]
  },
  {
   "cell_type": "markdown",
   "metadata": {},
   "source": [
    "Here is the implementation of $g$ and $dg/dp$ by the adjoint method, as explained in the notes.   This involves computing the recurrence \"forward\" to obtain $x^n$, *saving* the results for each $n$ (using a $2\\times N+1$ matrix `X` here), then computing the adjoint recurrence \"backward\" to obtain $\\lambda$ and accumulate $dg/dp$."
   ]
  },
  {
   "cell_type": "code",
   "execution_count": 25,
   "metadata": {
    "collapsed": false
   },
   "outputs": [
    {
     "data": {
      "text/plain": [
       "recurrence_adjoint (generic function with 1 method)"
      ]
     },
     "execution_count": 25,
     "metadata": {},
     "output_type": "execute_result"
    }
   ],
   "source": [
    "# compute g(x) = x[2]^2 from last iteration, and dg/dp, by adjoint method\n",
    "function recurrence_adjoint(A, b, p)\n",
    "    X = Array(Float64, 2, length(p)+1)\n",
    "    X[:,1] = b\n",
    "    for i = 1:length(p)\n",
    "        X[:,i+1] = A * X[:,i] + [0,p[i]]\n",
    "    end\n",
    "    λ = [0, 2*X[2,end]]\n",
    "    dgdp = Array(Float64, length(p))\n",
    "    for i = length(p):-1:1\n",
    "        dgdp[i] = λ[2]\n",
    "        λ = A'λ\n",
    "    end\n",
    "    return X[2,end]^2, dgdp\n",
    "end"
   ]
  },
  {
   "cell_type": "code",
   "execution_count": 26,
   "metadata": {
    "collapsed": false
   },
   "outputs": [
    {
     "data": {
      "text/plain": [
       "(14.07573606941016,[6.67207,6.98148,7.22113,7.38863,7.48231,7.50123,7.44519,7.31477,7.11126,6.83669  …  -4.66427,-5.22776,-5.73902,-6.19293,-6.58497,-6.91121,-7.16839,-7.35396,-7.46604,-7.50353])"
      ]
     },
     "execution_count": 26,
     "metadata": {},
     "output_type": "execute_result"
    }
   ],
   "source": [
    "recurrence_adjoint(A, b, p)"
   ]
  },
  {
   "cell_type": "markdown",
   "metadata": {},
   "source": [
    "For comparison, we will compute $dg/dp$ by a center difference approximation: $\\partial g/\\partial p_n \\approx [g(p + \\delta e_n) - g(p - \\delta e_n)] / 2\\delta$ for some small $\\delta$."
   ]
  },
  {
   "cell_type": "code",
   "execution_count": 30,
   "metadata": {
    "collapsed": false
   },
   "outputs": [
    {
     "data": {
      "text/plain": [
       "recurrence_FD (generic function with 2 methods)"
      ]
     },
     "execution_count": 30,
     "metadata": {},
     "output_type": "execute_result"
    }
   ],
   "source": [
    "function recurrence_FD(A, b, p, δ=1e-5)\n",
    "    g = recurrence(A, b, p)[2]^2\n",
    "    dgdp = Array(Float64, length(p))\n",
    "    for i = 1:length(p)\n",
    "        pold = p[i]\n",
    "        p[i] = pold + δ\n",
    "        g₊ = recurrence(A, b, p)[2]^2\n",
    "        p[i] = pold - δ\n",
    "        g₋ = recurrence(A, b, p)[2]^2\n",
    "        dgdp[i] = (g₊ - g₋) / (2δ)\n",
    "        p[i] = pold\n",
    "    end\n",
    "    return g, dgdp\n",
    "end"
   ]
  },
  {
   "cell_type": "markdown",
   "metadata": {},
   "source": [
    "As we might have hoped, the answers are pretty close (limited by roundoff error and/or finite-difference error):"
   ]
  },
  {
   "cell_type": "code",
   "execution_count": 34,
   "metadata": {
    "collapsed": false
   },
   "outputs": [
    {
     "data": {
      "text/plain": [
       "1.5216061289064273e-6"
      ]
     },
     "execution_count": 34,
     "metadata": {},
     "output_type": "execute_result"
    }
   ],
   "source": [
    "norm(recurrence_FD(A, b, p)[2] - recurrence_adjoint(A, b, p)[2])"
   ]
  },
  {
   "cell_type": "markdown",
   "metadata": {},
   "source": [
    "In practice, it is really easy to make mistakes in computing derivatives of complicated functions by hand, so it is always important to check your results against a finite-difference approximation.\n",
    "\n",
    "It is interesting to ask what the influence of the finite-difference step $\\delta$ is in this problem, by plotting the error vs. $\\delta$:"
   ]
  },
  {
   "cell_type": "code",
   "execution_count": 38,
   "metadata": {
    "collapsed": false
   },
   "outputs": [
    {
     "data": {
      "image/png": "[encoded data removed]",
      "text/plain": [
       "PyPlot.Figure(PyObject <matplotlib.figure.Figure object at 0x31670ed10>)"
      ]
     },
     "metadata": {},
     "output_type": "display_data"
    },
    {
     "data": {
      "text/plain": [
       "PyObject <matplotlib.text.Text object at 0x31730e050>"
      ]
     },
     "execution_count": 38,
     "metadata": {},
     "output_type": "execute_result"
    }
   ],
   "source": [
    "using PyPlot\n",
    "δ = logspace(-15, -1, 100)\n",
    "loglog(δ, [norm(recurrence_adjoint(A, b, p)[2] - recurrence_FD(A, b, p, d)[2]) for d in δ], \".-\")\n",
    "xlabel(\"finite-difference step δ\")\n",
    "ylabel(\"norm of error in dg/dp\")"
   ]
  },
  {
   "cell_type": "markdown",
   "metadata": {},
   "source": [
    "At first glance, this seems ridiculous: the errors get *monotonically worse* as $\\delta$ decreases!  How can this be right?\n",
    "\n",
    "The key point is to realize that our $g(p)$ depends *quadratically* on $p$, and a center-difference approximation is *exact* for a quadratic function *in exact arithmetic*.   So, *all* of the difference arises due to roundoff errors.  In the finite-difference approximation, the difference $g(p + \\delta e_n) - g(p - \\delta e_n)$ is the difference of two nearly equal quantities as $\\delta \\to 0$, so there is a large cancellation error in the result (i.e. the result arises from the *least* significant digits of $g$), and hence the error worsens with decreasing $\\delta$."
   ]
  }
 ],
 "metadata": {
  "kernelspec": {
   "display_name": "Julia 0.4.0-dev",
   "language": "julia",
   "name": "julia 0.4"
  },
  "language_info": {
   "name": "julia",
   "version": "0.4.0"
  }
 },
 "nbformat": 4,
 "nbformat_minor": 0
}
