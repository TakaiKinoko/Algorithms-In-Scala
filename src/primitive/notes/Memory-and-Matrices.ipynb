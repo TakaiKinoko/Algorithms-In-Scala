{
 "cells": [
  {
   "cell_type": "markdown",
   "metadata": {},
   "source": [
    "# Experiments with Memory Access and Matrices\n",
    "\n",
    "In many problems, especially problems accessing lots of data and doing relatively simple computations on each datum, the performance bottleneck is memory rather than computational speed.  Because memory is arranged into a **memory hierarchy** of larger/slower and smaller/faster memories, it turns out that *changing the order* of memory access can have a huge impact on performance.\n",
    "\n",
    "In this notebook, we'll explore these performance issues with a few typical matrix algorithms, implemented in Julia."
   ]
  },
  {
   "cell_type": "code",
   "execution_count": 1,
   "metadata": {},
   "outputs": [
    {
     "name": "stdout",
     "output_type": "stream",
     "text": [
      "Julia Version 1.1.0\n",
      "Commit 80516ca202 (2019-01-21 21:24 UTC)\n",
      "Platform Info:\n",
      "  OS: macOS (x86_64-apple-darwin14.5.0)\n",
      "  CPU: Intel(R) Core(TM) i7-6820HQ CPU @ 2.70GHz\n",
      "  WORD_SIZE: 64\n",
      "  LIBM: libopenlibm\n",
      "  LLVM: libLLVM-6.0.1 (ORCJIT, skylake)\n",
      "Environment:\n",
      "  JULIA_EDITOR = code\n"
     ]
    }
   ],
   "source": [
    "using BenchmarkTools # a useful package of benchmarking utilities\n",
    "versioninfo() # a useful function to print out information about the machine"
   ]
  },
  {
   "cell_type": "markdown",
   "metadata": {},
   "source": [
    "## Benchmarking Matrix Multiplication\n",
    "\n",
    "One of the most basic building blocks of numerical linear algebra is the computation of matrix multiplication: given an $m \\times n$ matrix $A$ and an $n \\times p$ matrix $B$, compute the $m \\times p$ matrix $C = AB$.   The entries of $C$ are given by the exact formula:\n",
    "$$\n",
    "C_{ik} = \\sum_{j=1}^n A_{ij} B_{jk}\n",
    "$$\n",
    "but there are many ways to implement this computation.   $\\approx 2mnp$ flops (floating-point additions and multiplications) are required, but they can re-ordered arbitrarily, leading to $\\sim (mnp)!$ possible orderings.\n",
    "\n",
    "It turns out that the ordering of the operations in the matrix multiplication has a *huge* impact on performance, along with low-level details of the inner loops.  Basically, three factors make the implementation of efficient matrix multiplication highly nontrivial:\n",
    "\n",
    "* [Caches](https://en.wikipedia.org/wiki/CPU_cache): the matrix accesses must be reordered to obtain [temporal locality](https://en.wikipedia.org/wiki/Locality_of_reference) and hence efficient memory (cache) usage.\n",
    "* [Registers](https://en.wikipedia.org/wiki/Processor_register): at the lowest level, the CPU registers form a kind of ideal cache.  The innermost loops of the matrix multiplication need to be unrolled in order to load many values into registers and perform as much work with them as possible (essentially a small submatrix multiplication).  It turns out that a [lot of tricks](http://cscads.rice.edu/workshops/july2007/autotune-slides-07/Frigo.pdf) are required to do this well.\n",
    "* [SIMD instructions](https://en.wikipedia.org/wiki/SIMD): modern CPUs include special instructions that can perform several arithmetic operations at once (e.g. 2, 4, or even 8 `Float64` operations), and to get the full benefit of these operations typically requires hand coding. \n",
    "\n",
    "As a consequence, there is a huge performance gap between the most obvious three-loop matrix-multiplication code and highly optimized code.  This gap has become the central factor in the design of dense linear-algebra libraries for several decades, especially the industry-standard free/open-source the [LAPACK](https://en.wikipedia.org/wiki/LAPACK) library: nearly all dense linear algebra is now organized around highly optimized [BLAS](https://en.wikipedia.org/wiki/Basic_Linear_Algebra_Subprograms) libraries.\n",
    "\n",
    "Because Julia benefits from fast compilers, we can illustrate this performance gap fairly with simple Julia code.  (In contrast, similar implementation in Matlab or Python would be orders of magnitude slower, and would demonstrate mostly language rather than the algorithmic effects.)"
   ]
  },
  {
   "cell_type": "markdown",
   "metadata": {},
   "source": [
    "### Naive algorithm"
   ]
  },
  {
   "cell_type": "markdown",
   "metadata": {},
   "source": [
    "The following is the simplest, most obvious, matrix-multiplication algorithm: just three nested loops, implementing a dot product for each output $C_{ik}$.\n",
    "\n",
    "The only concessions we have made to performance concerns here are (1) we implement an in-place `matmul!` variant that operates on a pre-existing `C` array, to avoid benchmarking the memory allocation/deallocation and (2) we use the `@inbounds` macro to turn off array bounds-checking in Julia for the inner loop.   Together, these make less than a factor of two difference in speed."
   ]
  },
  {
   "cell_type": "code",
   "execution_count": 2,
   "metadata": {},
   "outputs": [
    {
     "data": {
      "text/plain": [
       "matmul (generic function with 1 method)"
      ]
     },
     "execution_count": 2,
     "metadata": {},
     "output_type": "execute_result"
    }
   ],
   "source": [
    "# compute C = A * B, using naive matrix-multiplication algorithm,\n",
    "# with a pre-allocated output array C.  (\"!\" is a Julia convention\n",
    "# for functions that modify their arguments.)\n",
    "function matmul!(C, A, B)\n",
    "    m,n = size(A)\n",
    "    n,p = size(B)\n",
    "    size(C) == (m,p) || error(\"incorrect dimensions \", size(C), \" ≠ $m × $p\")\n",
    "    for i = 1:m\n",
    "        for k = 1:p\n",
    "            c = zero(eltype(C))\n",
    "            for j = 1:n\n",
    "                @inbounds c += A[i,j] * B[j,k]\n",
    "            end\n",
    "            @inbounds C[i,k] = c\n",
    "        end\n",
    "    end\n",
    "    return C\n",
    "end\n",
    "\n",
    "# a wrapper that allocates C of an appropriate type\n",
    "matmul(A, B) = matmul!(Array{promote_type(eltype(A), eltype(B))}(undef,\n",
    "                             size(A,1), size(B,2)),\n",
    "                       A, B)"
   ]
  },
  {
   "cell_type": "code",
   "execution_count": 3,
   "metadata": {},
   "outputs": [
    {
     "data": {
      "text/plain": [
       "9.42055475210265e-16"
      ]
     },
     "execution_count": 3,
     "metadata": {},
     "output_type": "execute_result"
    }
   ],
   "source": [
    "# correctness check:\n",
    "A = rand(5,6)\n",
    "B = rand(6,7)\n",
    "using LinearAlgebra\n",
    "norm(matmul(A,B) - A * B)"
   ]
  },
  {
   "cell_type": "markdown",
   "metadata": {},
   "source": [
    "#### Benchmarking naive `matmul`"
   ]
  },
  {
   "cell_type": "markdown",
   "metadata": {},
   "source": [
    "Here, we will benchmark our naive `matmul` implementation against the highly optimized [OpenBLAS library](http://www.openblas.net/) that Julia uses for its built-in matrix multiplication.   Like `matmul!`, we will call OpenBLAS with pre-allocated output via `mul!(C, A, B)` instead of the simpler `A * B`.  By default, OpenBLAS uses multiple CPU cores, which gives it an \"unfair\" parallel speedup, but we can disable this for benchmarking purposes:"
   ]
  },
  {
   "cell_type": "code",
   "execution_count": 4,
   "metadata": {},
   "outputs": [],
   "source": [
    "# for benchmarking, use only single-threaded BLAS:\n",
    "BLAS.set_num_threads(1)"
   ]
  },
  {
   "cell_type": "markdown",
   "metadata": {},
   "source": [
    "We will benchmark $n \\times n$ matrix multiplications for various $n$ from 10 to 1000.  Julia's `@elapsed ...code...` macro is useful for benchmarking: it times the code and returns the time in seconds.   As we go, we will print the ratio of the naive time to the optimized time, to see the slowdown of our naive code."
   ]
  },
  {
   "cell_type": "code",
   "execution_count": 5,
   "metadata": {},
   "outputs": [
    {
     "name": "stdout",
     "output_type": "stream",
     "text": [
      "finished n = 10: slowdown of 1.4901637385507038\n",
      "finished n = 11: slowdown of 1.9393244940434173\n",
      "finished n = 12: slowdown of 2.6188313802083334\n",
      "finished n = 13: slowdown of 2.5262744290913175\n",
      "finished n = 15: slowdown of 2.916554887006732\n",
      "finished n = 16: slowdown of 3.851207857711707\n",
      "finished n = 18: slowdown of 3.7558914961893306\n",
      "finished n = 20: slowdown of 4.657389746257442\n",
      "finished n = 22: slowdown of 4.832140445644834\n",
      "finished n = 24: slowdown of 5.587411435162299\n",
      "finished n = 26: slowdown of 5.055428058271802\n",
      "finished n = 29: slowdown of 6.028688678890101\n",
      "finished n = 32: slowdown of 7.557530716659819\n",
      "finished n = 35: slowdown of 6.848359350111501\n",
      "finished n = 39: slowdown of 7.042117639965027\n",
      "finished n = 43: slowdown of 7.6790492744249965\n",
      "finished n = 47: slowdown of 7.601092381580187\n",
      "finished n = 52: slowdown of 9.837929495760822\n",
      "finished n = 57: slowdown of 10.414644264675378\n",
      "finished n = 63: slowdown of 9.253853676710287\n",
      "finished n = 69: slowdown of 10.88767926726389\n",
      "finished n = 76: slowdown of 13.103442376129209\n",
      "finished n = 84: slowdown of 14.140297339593113\n",
      "finished n = 92: slowdown of 14.534846227628007\n",
      "finished n = 102: slowdown of 14.470973354763554\n",
      "finished n = 112: slowdown of 17.497395929980826\n",
      "finished n = 123: slowdown of 17.014172173602432\n",
      "finished n = 136: slowdown of 18.65514830138104\n",
      "finished n = 150: slowdown of 19.342140572336362\n",
      "finished n = 165: slowdown of 20.085772558714464\n",
      "finished n = 182: slowdown of 20.11418218374898\n",
      "finished n = 200: slowdown of 23.198175650089997\n",
      "finished n = 221: slowdown of 22.169348543646016\n",
      "finished n = 243: slowdown of 23.2069552106629\n",
      "finished n = 268: slowdown of 26.045739354392307\n",
      "finished n = 295: slowdown of 23.080922277535485\n",
      "finished n = 325: slowdown of 26.737111107503047\n",
      "finished n = 358: slowdown of 25.32854070698292\n",
      "finished n = 394: slowdown of 26.652722814591417\n",
      "finished n = 434: slowdown of 27.209806229976454\n",
      "finished n = 478: slowdown of 27.007308963640707\n",
      "finished n = 526: slowdown of 24.805508882211623\n",
      "finished n = 580: slowdown of 26.85449539310683\n",
      "finished n = 639: slowdown of 27.19870128998145\n",
      "finished n = 704: slowdown of 35.6575835860409\n",
      "finished n = 775: slowdown of 27.644954770453957\n",
      "finished n = 854: slowdown of 28.845849805471243\n",
      "finished n = 940: slowdown of 29.08346769447732\n",
      "finished n = 1036: slowdown of 28.864235263166925\n",
      "finished n = 1141: slowdown of 31.80113942466385\n",
      "finished n = 1257: slowdown of 33.16252215112872\n",
      "finished n = 1384: slowdown of 53.58880168678872\n",
      "finished n = 1525: slowdown of 50.288988895933755\n",
      "finished n = 1680: slowdown of 84.81540710315004\n",
      "finished n = 1850: slowdown of 108.41060541614867\n",
      "finished n = 2038: slowdown of 112.49724882198325\n",
      "finished n = 2245: slowdown of 112.77691070137831\n",
      "finished n = 2473: slowdown of 120.14802759345432\n",
      "finished n = 2724: slowdown of 126.46773654693253\n",
      "finished n = 3000: slowdown of 136.07158616944386\n"
     ]
    }
   ],
   "source": [
    "N = round.(Int, 10 .^ range(1, log10(3000), length=60))  # 60 sizes from 10 to 3000\n",
    "# alternatively, use N = 10:1000 to see some interesting patterns due to cache associativity etc.\n",
    "t = Float64[]\n",
    "t0 = Float64[]\n",
    "for n in N\n",
    "    A = zeros(n,n)\n",
    "    B = zeros(n,n)\n",
    "    # preallocate output C so that allocation is not included in timing\n",
    "    C = zeros(n,n)\n",
    "    push!(t, @belapsed matmul!($C,$A,$B))\n",
    "    push!(t0, @belapsed mul!($C,$A,$B))\n",
    "    println(\"finished n = $n: slowdown of \", t[end]/t0[end])\n",
    "end"
   ]
  },
  {
   "cell_type": "code",
   "execution_count": 6,
   "metadata": {},
   "outputs": [],
   "source": [
    "using PyPlot # a plotting library based on Python's Matplotlib"
   ]
  },
  {
   "cell_type": "markdown",
   "metadata": {},
   "source": [
    "Now, we will plot the results.  Since the number of flops is $2n^3$, we will plot $2n^3 / t$ for time $t$ in microseconds in order to plot the **gigaflops rate** (billions of flops per second).  If you naively think of a CPU as a box that performs floating-point instructions at a fixed rate, with all other instructions being negligible (a picture that *may* have been true circa 1985), this would be a flat horizontal line independent of $n$, but we will see that reality is quite different.\n",
    "\n",
    "The OpenBLAS library gets an \"unfair\" factor of 8 speedup on typical modern Intel processors thanks to hand-coded support for [AVX-512](https://en.wikipedia.org/wiki/Advanced_Vector_Extensions) SIMD instructions, which perform 8 double-precision floating-point operations simultaneously, so we will divide the BLAS performance by 8 for comparison purposes."
   ]
  },
  {
   "cell_type": "code",
   "execution_count": 7,
   "metadata": {},
   "outputs": [
    {
     "data": {
      "image/png": "[encoded data removed]",
      "text/plain": [
       "Figure(PyObject <Figure size 640x480 with 1 Axes>)"
      ]
     },
     "metadata": {},
     "output_type": "display_data"
    },
    {
     "data": {
      "text/plain": [
       "PyObject <matplotlib.legend.Legend object at 0x187de12e8>"
      ]
     },
     "execution_count": 7,
     "metadata": {},
     "output_type": "execute_result"
    }
   ],
   "source": [
    "plot(N, 2N.^3 ./ t * 1e-9, \"rs-\")\n",
    "plot(N, 2N.^3 ./ t0 * 1e-9 / 8, \"b.-\")\n",
    "ylabel(L\"gigaflops $2n^3/t$\")\n",
    "xlabel(L\"matrix size $n$\")\n",
    "legend([\"naive matmul\", \"BLAS matmul / 8\"], loc=\"center right\")"
   ]
  },
  {
   "cell_type": "markdown",
   "metadata": {},
   "source": [
    "#### Naive matmul in C"
   ]
  },
  {
   "cell_type": "markdown",
   "metadata": {},
   "source": [
    "You may be suspicious that the problem is simply that Julia is slow.   We can check this hypothesis by implementing the same algorithm in C, compiling it, and then calling it by Julia's built-in `ccall` instruction that makes it [easy to call C from Julia](http://docs.julialang.org/en/latest/manual/calling-c-and-fortran-code/)."
   ]
  },
  {
   "cell_type": "code",
   "execution_count": 8,
   "metadata": {},
   "outputs": [
    {
     "data": {
      "text/plain": [
       "cmatmul (generic function with 1 method)"
      ]
     },
     "execution_count": 8,
     "metadata": {},
     "output_type": "execute_result"
    }
   ],
   "source": [
    "# C implementation:\n",
    "Cmatmul = \"\"\"\n",
    "void Cmatmul(int m, int n, int p, double *C, double *A, double *B)\n",
    "{\n",
    "    int i, j, k;\n",
    "    for (i = 0; i < m; ++i)\n",
    "        for (j = 0; j < p; ++j) {\n",
    "            double c = 0.0;\n",
    "            for (k = 0; k < n; ++k)\n",
    "                c += A[i + m*k] * B[k + n*j];\n",
    "            C[i + m*j] = c;\n",
    "    }\n",
    "}\n",
    "\"\"\"\n",
    "# compile to a shared library by piping Cmatmul to gcc:\n",
    "# (only works if you have gcc installed)\n",
    "const Clib = tempname()\n",
    "import Libdl\n",
    "open(`gcc -fPIC -O3 -xc -shared -o $(Clib * \".\" * Libdl.dlext) -`, \"w\") do f\n",
    "    print(f, Cmatmul)\n",
    "end\n",
    "\n",
    "# define a Julia cmatmul! function that simply calls the C code in the shared library we compiled\n",
    "function cmatmul!(C, A, B)\n",
    "    m,n = size(A)\n",
    "    n,p = size(B)\n",
    "    size(C) == (m,p) || error(\"incorrect dimensions \", size(C), \" ≠ $m × $p\")\n",
    "    ccall((\"Cmatmul\", Clib), Cvoid, (Cint, Cint, Cint, Ptr{Float64}, Ptr{Float64}, Ptr{Float64}),\n",
    "          m, n, p, C, A, B)\n",
    "    return C\n",
    "end\n",
    "cmatmul(A, B) = cmatmul!(Array{promote_type(eltype(A), eltype(B))}(undef,\n",
    "                               size(A,1), size(B,2)),\n",
    "                         A, B)"
   ]
  },
  {
   "cell_type": "code",
   "execution_count": 9,
   "metadata": {},
   "outputs": [
    {
     "data": {
      "text/plain": [
       "9.930136612989092e-16"
      ]
     },
     "execution_count": 9,
     "metadata": {},
     "output_type": "execute_result"
    }
   ],
   "source": [
    "# correctness check:\n",
    "A = rand(5,6)\n",
    "B = rand(6,7)\n",
    "norm(cmatmul(A,B) - A * B)"
   ]
  },
  {
   "cell_type": "markdown",
   "metadata": {},
   "source": [
    "Now, let's benchmark it and print out the \"speedup\" compared to pure Julia.  We see that it is **about the same speed**.  Julia's main claim to fame is that it is a dynamic language (like Python or Matlab) that stays within a factor of 2 (usually better) of C."
   ]
  },
  {
   "cell_type": "code",
   "execution_count": 10,
   "metadata": {},
   "outputs": [
    {
     "name": "stdout",
     "output_type": "stream",
     "text": [
      "finished n = 10: speedup of 0.9415885443494386\n",
      "finished n = 11: speedup of 0.8932324289097898\n",
      "finished n = 12: speedup of 0.8074115967789717\n",
      "finished n = 13: speedup of 0.9689374750033328\n",
      "finished n = 15: speedup of 0.9827511443025778\n",
      "finished n = 16: speedup of 0.9036188178528347\n",
      "finished n = 18: speedup of 0.9464339351867302\n",
      "finished n = 20: speedup of 0.9157022742080605\n",
      "finished n = 22: speedup of 0.8833491699737299\n",
      "finished n = 24: speedup of 0.9494433795340608\n",
      "finished n = 26: speedup of 0.9663380406785682\n",
      "finished n = 29: speedup of 1.0169177158273384\n",
      "finished n = 32: speedup of 0.9366698292220114\n",
      "finished n = 35: speedup of 0.9980758414493354\n",
      "finished n = 39: speedup of 0.9443873619316723\n",
      "finished n = 43: speedup of 0.9338007706398838\n",
      "finished n = 47: speedup of 0.9581371723078447\n",
      "finished n = 52: speedup of 0.8809169584701635\n",
      "finished n = 57: speedup of 0.9178633312752694\n",
      "finished n = 63: speedup of 0.9448688527890171\n",
      "finished n = 69: speedup of 0.9531817863164923\n",
      "finished n = 76: speedup of 0.9228850849360858\n",
      "finished n = 84: speedup of 0.867377185555734\n",
      "finished n = 92: speedup of 0.8567061955401546\n",
      "finished n = 102: speedup of 0.8816898279765799\n",
      "finished n = 112: speedup of 0.8930410166275218\n",
      "finished n = 123: speedup of 0.8667096707146107\n",
      "finished n = 136: speedup of 0.9492481437866439\n",
      "finished n = 150: speedup of 0.9560318598853188\n",
      "finished n = 165: speedup of 0.894619633926771\n",
      "finished n = 182: speedup of 0.9931046383311947\n",
      "finished n = 200: speedup of 0.9054408181267808\n",
      "finished n = 221: speedup of 0.9177701092129164\n",
      "finished n = 243: speedup of 0.8931365096194893\n",
      "finished n = 268: speedup of 0.9228598724504808\n",
      "finished n = 295: speedup of 0.928636002497695\n",
      "finished n = 325: speedup of 0.9313129488807628\n",
      "finished n = 358: speedup of 0.9466266106333232\n",
      "finished n = 394: speedup of 0.9253993865716563\n",
      "finished n = 434: speedup of 0.9094965931658148\n",
      "finished n = 478: speedup of 0.9780621187627752\n",
      "finished n = 526: speedup of 0.9859988411168029\n",
      "finished n = 580: speedup of 0.9570558955052306\n",
      "finished n = 639: speedup of 0.973287289220644\n",
      "finished n = 704: speedup of 0.8587300442420195\n",
      "finished n = 775: speedup of 0.9406145113726657\n",
      "finished n = 854: speedup of 0.9400331236910477\n",
      "finished n = 940: speedup of 0.9605539869220749\n"
     ]
    }
   ],
   "source": [
    "tc = Float64[]\n",
    "for n in N[N .<= 1000]\n",
    "    A = zeros(n,n)\n",
    "    B = zeros(n,n)\n",
    "    # preallocate output C so that allocation is not included in timing\n",
    "    C = zeros(n,n)\n",
    "    push!(tc, @belapsed cmatmul!($C,$A,$B))\n",
    "    println(\"finished n = $n: speedup of \", tc[end]/t[length(tc)])\n",
    "end"
   ]
  },
  {
   "cell_type": "markdown",
   "metadata": {},
   "source": [
    "### Cache-oblivious matrix-multiplication"
   ]
  },
  {
   "cell_type": "markdown",
   "metadata": {},
   "source": [
    "As a first step in the right direction, we'll implement a [cache-oblivious algorithm](https://en.wikipedia.org/wiki/Cache-oblivious_algorithm) for matrix multiplication: divide the matrices into four submatrices which are multiplied *recursively* until a sufficiently large base case is reached (large enough to amortize the recursion overhead).   This strategy erases the steep performance drop-off that occurs for large $n$ where the matrix goes out-of-cache, at the cost of ~25 lines of code rather than ~10 for the naive loops.\n",
    "\n",
    "(It still doesn't match the OpenBLAS performance because it fails to address the other two problems: unrolling and optimizing the base cases to optimize register utilization, and coding for SIMD instructions.)"
   ]
  },
  {
   "cell_type": "code",
   "execution_count": 11,
   "metadata": {},
   "outputs": [
    {
     "data": {
      "text/plain": [
       "matmul_rec (generic function with 1 method)"
      ]
     },
     "execution_count": 11,
     "metadata": {},
     "output_type": "execute_result"
    }
   ],
   "source": [
    "function add_matmul_rec!(m,n,p, i0,j0,k0, C,A,B)\n",
    "    if m+n+p <= 64   # base case: naive matmult for sufficiently large matrices\n",
    "        for i = 1:m\n",
    "            for k = 1:p\n",
    "                c = zero(eltype(C))\n",
    "                for j = 1:n\n",
    "                    @inbounds c += A[i0+i,j0+j] * B[j0+j,k0+k]\n",
    "                end\n",
    "                @inbounds C[i0+i,k0+k] += c\n",
    "            end\n",
    "        end\n",
    "    else\n",
    "        m2 = m ÷ 2; n2 = n ÷ 2; p2 = p ÷ 2\n",
    "        add_matmul_rec!(m2, n2, p2, i0, j0, k0, C, A, B)\n",
    "        \n",
    "        add_matmul_rec!(m-m2, n2, p2, i0+m2, j0, k0, C, A, B)\n",
    "        add_matmul_rec!(m2, n-n2, p2, i0, j0+n2, k0, C, A, B)\n",
    "        add_matmul_rec!(m2, n2, p-p2, i0, j0, k0+p2, C, A, B)\n",
    "        \n",
    "        add_matmul_rec!(m-m2, n-n2, p2, i0+m2, j0+n2, k0, C, A, B)\n",
    "        add_matmul_rec!(m2, n-n2, p-p2, i0, j0+n2, k0+p2, C, A, B)\n",
    "        add_matmul_rec!(m-m2, n2, p-p2, i0+m2, j0, k0+p2, C, A, B)\n",
    "        \n",
    "        add_matmul_rec!(m-m2, n-n2, p-p2, i0+m2, j0+n2, k0+p2, C, A, B)\n",
    "    end\n",
    "    return C\n",
    "end\n",
    "\n",
    "function matmul_rec!(C, A, B)\n",
    "    m,n = size(A)\n",
    "    n,p = size(B)\n",
    "    size(C) == (m,p) || error(\"incorrect dimensions \", size(C), \" ≠ $m × $p\")\n",
    "    fill!(C, 0)\n",
    "    return add_matmul_rec!(m,n,p, 0,0,0, C,A,B)\n",
    "end\n",
    "\n",
    "\n",
    "matmul_rec(A, B) = matmul_rec!(Array{promote_type(eltype(A), eltype(B))}(undef,\n",
    "                                     size(A,1), size(B,2)),\n",
    "                               A, B)"
   ]
  },
  {
   "cell_type": "code",
   "execution_count": 12,
   "metadata": {},
   "outputs": [
    {
     "data": {
      "text/plain": [
       "1.9869803870320713e-13"
      ]
     },
     "execution_count": 12,
     "metadata": {},
     "output_type": "execute_result"
    }
   ],
   "source": [
    "# correctness check:\n",
    "A = rand(50,60)\n",
    "B = rand(60,70)\n",
    "norm(matmul_rec(A,B) - A * B)"
   ]
  },
  {
   "cell_type": "code",
   "execution_count": 13,
   "metadata": {},
   "outputs": [
    {
     "name": "stdout",
     "output_type": "stream",
     "text": [
      "finished n = 10: slowdown of 1.4866186282314162\n",
      "finished n = 11: slowdown of 1.8615301744838753\n",
      "finished n = 12: slowdown of 2.445751953125\n",
      "finished n = 13: slowdown of 2.3521531279527745\n",
      "finished n = 15: slowdown of 2.9224568530512656\n",
      "finished n = 16: slowdown of 3.9270860985753475\n",
      "finished n = 18: slowdown of 3.6914610910549537\n",
      "finished n = 20: slowdown of 4.310609626198321\n",
      "finished n = 22: slowdown of 4.87086428089129\n",
      "finished n = 24: slowdown of 5.703369583127369\n",
      "finished n = 26: slowdown of 5.168130113749751\n",
      "finished n = 29: slowdown of 5.403185121042129\n",
      "finished n = 32: slowdown of 6.689322926392053\n",
      "finished n = 35: slowdown of 5.376755770511744\n",
      "finished n = 39: slowdown of 5.833609695800296\n",
      "finished n = 43: slowdown of 6.335421803629895\n",
      "finished n = 47: slowdown of 6.300969959506545\n",
      "finished n = 52: slowdown of 7.953324408746095\n",
      "finished n = 57: slowdown of 8.106755168360644\n",
      "finished n = 63: slowdown of 7.161132585106879\n",
      "finished n = 69: slowdown of 8.558189049130277\n",
      "finished n = 76: slowdown of 9.850739118532712\n",
      "finished n = 84: slowdown of 10.188784559207095\n",
      "finished n = 92: slowdown of 9.731148343911348\n",
      "finished n = 102: slowdown of 9.440803928218589\n",
      "finished n = 112: slowdown of 10.427203562813139\n",
      "finished n = 123: slowdown of 10.194820503661369\n",
      "finished n = 136: slowdown of 11.962036011887418\n",
      "finished n = 150: slowdown of 11.262220647903652\n",
      "finished n = 165: slowdown of 11.592904820766378\n",
      "finished n = 182: slowdown of 11.816820485411874\n",
      "finished n = 200: slowdown of 12.59368402487797\n",
      "finished n = 221: slowdown of 12.693762359308327\n",
      "finished n = 243: slowdown of 12.300343865077096\n",
      "finished n = 268: slowdown of 14.285325590781975\n",
      "finished n = 295: slowdown of 13.468956646309762\n",
      "finished n = 325: slowdown of 14.52270101179024\n",
      "finished n = 358: slowdown of 13.555673084470452\n",
      "finished n = 394: slowdown of 14.585115088264892\n",
      "finished n = 434: slowdown of 14.426242493755135\n",
      "finished n = 478: slowdown of 14.994064142831204\n",
      "finished n = 526: slowdown of 14.360568309683277\n",
      "finished n = 580: slowdown of 15.229765550079032\n",
      "finished n = 639: slowdown of 14.425508313120545\n",
      "finished n = 704: slowdown of 16.124005450676385\n",
      "finished n = 775: slowdown of 14.62828388282484\n",
      "finished n = 854: slowdown of 14.467882089227748\n",
      "finished n = 940: slowdown of 15.445449294872555\n",
      "finished n = 1036: slowdown of 15.596848035539223\n",
      "finished n = 1141: slowdown of 15.722966080818962\n",
      "finished n = 1257: slowdown of 17.021785075603187\n",
      "finished n = 1384: slowdown of 18.576202934863566\n",
      "finished n = 1525: slowdown of 15.306597744789741\n",
      "finished n = 1680: slowdown of 14.088307463269388\n",
      "finished n = 1850: slowdown of 15.975925442576555\n",
      "finished n = 2038: slowdown of 15.710151358948234\n",
      "finished n = 2245: slowdown of 16.47665706794921\n",
      "finished n = 2473: slowdown of 16.516587889932843\n",
      "finished n = 2724: slowdown of 18.3672286626747\n",
      "finished n = 3000: slowdown of 16.22472510143391\n"
     ]
    }
   ],
   "source": [
    "tco = Float64[]\n",
    "for n in N\n",
    "    A = zeros(n,n)\n",
    "    B = zeros(n,n)\n",
    "    # preallocate output C so that allocation is not included in timing\n",
    "    C = zeros(n,n)\n",
    "    push!(tco, @belapsed matmul_rec!($C,$A,$B))\n",
    "    println(\"finished n = $n: slowdown of \", tco[end]/t0[length(tco)])\n",
    "end"
   ]
  },
  {
   "cell_type": "code",
   "execution_count": 14,
   "metadata": {},
   "outputs": [
    {
     "data": {
      "image/png": "[encoded data removed]",
      "text/plain": [
       "Figure(PyObject <Figure size 640x480 with 1 Axes>)"
      ]
     },
     "metadata": {},
     "output_type": "display_data"
    },
    {
     "data": {
      "text/plain": [
       "PyObject <matplotlib.legend.Legend object at 0x1881351d0>"
      ]
     },
     "execution_count": 14,
     "metadata": {},
     "output_type": "execute_result"
    }
   ],
   "source": [
    "plot(N, 2N.^3 ./ t * 1e-9, \"rs-\")\n",
    "plot(N, 2N.^3 ./ tco * 1e-9, \"ko-\")\n",
    "plot(N, 2N.^3 ./ t0 * 1e-9 / 8, \"b.-\")\n",
    "ylabel(L\"gigaflops $2n^3/t$\")\n",
    "xlabel(L\"matrix size $n$\")\n",
    "legend([\"naive matmul\", \"cache-oblivious\", \"BLAS matmul / 8\"], loc=\"upper left\")"
   ]
  },
  {
   "cell_type": "markdown",
   "metadata": {},
   "source": [
    "## Matrix addition\n",
    "\n",
    "Matrix addition is an interesting case because it has no data re-use, so there is no possible temporal locality, but depending on *what order* you use for the loops and *how matrices are stored* in memory, you may or may not get **spatial locality** that takes advantage of **cache lines**.\n",
    "\n",
    "Here let's implement matrix addition in two different ways.  As above, we'll use a pre-allocated output array so that our benchmark does not include the time for memory allocation:"
   ]
  },
  {
   "cell_type": "code",
   "execution_count": 15,
   "metadata": {},
   "outputs": [
    {
     "data": {
      "text/plain": [
       "true"
      ]
     },
     "execution_count": 15,
     "metadata": {},
     "output_type": "execute_result"
    }
   ],
   "source": [
    "function matadd1!(C, A, B)\n",
    "    size(C) == size(A) == size(B) || throw(DimensionMismatchmatch())\n",
    "    m,n = size(A)\n",
    "    for i = 1:m\n",
    "        @simd for j = 1:n\n",
    "            @inbounds C[i,j] = A[i,j] + B[i,j]\n",
    "        end\n",
    "    end\n",
    "    return C\n",
    "end\n",
    "matadd1(A, B) = matadd1!(similar(A, promote_type(eltype(A), eltype(B))), A, B)\n",
    "\n",
    "function matadd2!(C, A, B)\n",
    "    size(C) == size(A) == size(B) || throw(DimensionMismatch())\n",
    "    m,n = size(A)\n",
    "    for j = 1:n\n",
    "        @simd for i = 1:m\n",
    "            @inbounds C[i,j] = A[i,j] + B[i,j]\n",
    "        end\n",
    "    end\n",
    "    return C\n",
    "end\n",
    "matadd2(A, B) = matadd2!(similar(A, promote_type(eltype(A), eltype(B))), A, B)\n",
    "\n",
    "A = rand(5,6)\n",
    "B = rand(5,6)\n",
    "A + B ≈ matadd1(A,B) ≈ matadd2(A,B)"
   ]
  },
  {
   "cell_type": "code",
   "execution_count": 16,
   "metadata": {},
   "outputs": [
    {
     "name": "stdout",
     "output_type": "stream",
     "text": [
      "finished n = 10: ratio t1/t2 of 1.0983653786770198\n",
      "finished n = 11: ratio t1/t2 of 1.0917065290920727\n",
      "finished n = 12: ratio t1/t2 of 1.137588339756325\n",
      "finished n = 13: ratio t1/t2 of 1.1243090105030404\n",
      "finished n = 15: ratio t1/t2 of 1.1218902694978927\n",
      "finished n = 16: ratio t1/t2 of 1.9406986419883765\n",
      "finished n = 18: ratio t1/t2 of 1.7254041354027223\n",
      "finished n = 20: ratio t1/t2 of 1.6611383920935183\n",
      "finished n = 22: ratio t1/t2 of 1.8116403353429507\n",
      "finished n = 24: ratio t1/t2 of 1.5665279873343514\n",
      "finished n = 26: ratio t1/t2 of 1.5983795485529229\n",
      "finished n = 29: ratio t1/t2 of 1.4742095619299787\n",
      "finished n = 32: ratio t1/t2 of 2.998561580570905\n",
      "finished n = 35: ratio t1/t2 of 2.7728111139542815\n",
      "finished n = 39: ratio t1/t2 of 2.5251125237313086\n",
      "finished n = 43: ratio t1/t2 of 2.2352015895355573\n",
      "finished n = 47: ratio t1/t2 of 2.511803679068801\n",
      "finished n = 52: ratio t1/t2 of 3.9892723659248306\n",
      "finished n = 57: ratio t1/t2 of 2.8324862672621793\n",
      "finished n = 63: ratio t1/t2 of 2.441451777389277\n",
      "finished n = 69: ratio t1/t2 of 3.023374441143818\n",
      "finished n = 76: ratio t1/t2 of 3.669081680686028\n",
      "finished n = 84: ratio t1/t2 of 4.207790786738156\n",
      "finished n = 92: ratio t1/t2 of 3.805703090988245\n",
      "finished n = 102: ratio t1/t2 of 3.875721610670874\n",
      "finished n = 112: ratio t1/t2 of 6.4081376365691325\n",
      "finished n = 123: ratio t1/t2 of 3.747901099218142\n",
      "finished n = 136: ratio t1/t2 of 2.45997503527624\n",
      "finished n = 150: ratio t1/t2 of 4.408874678312407\n",
      "finished n = 165: ratio t1/t2 of 5.514955537590946\n",
      "finished n = 182: ratio t1/t2 of 4.641158883826879\n",
      "finished n = 200: ratio t1/t2 of 3.6135577037832673\n",
      "finished n = 221: ratio t1/t2 of 4.5459454152758685\n",
      "finished n = 243: ratio t1/t2 of 4.4030844155844155\n",
      "finished n = 268: ratio t1/t2 of 4.161230832280318\n",
      "finished n = 295: ratio t1/t2 of 4.117401701796341\n",
      "finished n = 325: ratio t1/t2 of 4.142512465819527\n",
      "finished n = 358: ratio t1/t2 of 4.626235779724152\n",
      "finished n = 394: ratio t1/t2 of 4.80285870628617\n",
      "finished n = 434: ratio t1/t2 of 4.59467637917106\n",
      "finished n = 478: ratio t1/t2 of 4.687918748796335\n",
      "finished n = 526: ratio t1/t2 of 10.252862500178239\n",
      "finished n = 580: ratio t1/t2 of 15.966519332842221\n",
      "finished n = 639: ratio t1/t2 of 16.99011942086615\n",
      "finished n = 704: ratio t1/t2 of 17.359944910715335\n",
      "finished n = 775: ratio t1/t2 of 16.86756825194369\n",
      "finished n = 854: ratio t1/t2 of 18.41476158421266\n",
      "finished n = 940: ratio t1/t2 of 17.71381039693128\n",
      "finished n = 1036: ratio t1/t2 of 17.110710764606356\n",
      "finished n = 1141: ratio t1/t2 of 18.740796540782622\n",
      "finished n = 1257: ratio t1/t2 of 17.314287958343638\n",
      "finished n = 1384: ratio t1/t2 of 16.134948935401287\n",
      "finished n = 1525: ratio t1/t2 of 16.86503257373719\n",
      "finished n = 1680: ratio t1/t2 of 16.922124306008996\n",
      "finished n = 1850: ratio t1/t2 of 18.448476304111306\n",
      "finished n = 2038: ratio t1/t2 of 17.53962613435987\n",
      "finished n = 2245: ratio t1/t2 of 18.011333598834916\n",
      "finished n = 2473: ratio t1/t2 of 18.344800909889276\n",
      "finished n = 2724: ratio t1/t2 of 18.420287623952166\n",
      "finished n = 3000: ratio t1/t2 of 17.631790516010902\n"
     ]
    }
   ],
   "source": [
    "Na = round.(Int, 10 .^ range(1, log10(3000), length=60))  # 60 sizes from 10 to 3000\n",
    "# alternatively, use N = 10:1000 to see some interesting patterns due to cache associativity etc.\n",
    "t1 = Float64[]\n",
    "t2 = Float64[]\n",
    "for n in Na\n",
    "    A = zeros(n,n)\n",
    "    B = zeros(n,n)\n",
    "    # preallocate output C so that allocation is not included in timing\n",
    "    C = zeros(n,n)\n",
    "    matadd1!(C,A,B) # add once just to make sure we are in cache if A and B are small\n",
    "    push!(t1, @belapsed matadd1!($C,$A,$B))\n",
    "    push!(t2, @belapsed matadd2!($C,$A,$B))\n",
    "    println(\"finished n = $n: ratio t1/t2 of \", t1[end]/t2[end])\n",
    "end"
   ]
  },
  {
   "cell_type": "code",
   "execution_count": 17,
   "metadata": {},
   "outputs": [
    {
     "data": {
      "image/png": "[encoded data removed]",
      "text/plain": [
       "Figure(PyObject <Figure size 640x480 with 1 Axes>)"
      ]
     },
     "metadata": {},
     "output_type": "display_data"
    },
    {
     "data": {
      "text/plain": [
       "PyObject <matplotlib.legend.Legend object at 0x18cf6cdd8>"
      ]
     },
     "execution_count": 17,
     "metadata": {},
     "output_type": "execute_result"
    }
   ],
   "source": [
    "plot(Na, Na.^2 ./ t1 * 1e-9, \"rs-\")\n",
    "plot(Na, Na.^2 ./ t2 * 1e-9, \"bo-\")\n",
    "xlabel(L\"matrix size $n$\")\n",
    "ylabel(L\"gigaflops $n^2/t$\")\n",
    "legend([\"by row\", \"by column\"])"
   ]
  },
  {
   "cell_type": "code",
   "execution_count": 18,
   "metadata": {},
   "outputs": [
    {
     "data": {
      "image/png": "[encoded data removed]",
      "text/plain": [
       "Figure(PyObject <Figure size 640x480 with 1 Axes>)"
      ]
     },
     "metadata": {},
     "output_type": "display_data"
    },
    {
     "data": {
      "text/plain": [
       "PyObject Text(0.5, 1.0, 'ratio of matrix-addition algorithms')"
      ]
     },
     "execution_count": 18,
     "metadata": {},
     "output_type": "execute_result"
    }
   ],
   "source": [
    "plot(Na, t1 ./ t2, \"rs-\")\n",
    "xlabel(L\"matrix size $n$\")\n",
    "ylabel(\"by row time / by column time\")\n",
    "title(\"ratio of matrix-addition algorithms\")"
   ]
  },
  {
   "cell_type": "markdown",
   "metadata": {},
   "source": [
    "We can see that addition is about ***20 times slower*** if we add by rows rather than by columns.\n",
    "\n",
    "The reason for this is that **Julia stores matrices with consecutive columns**, which is known as **column-major storage** format."
   ]
  },
  {
   "cell_type": "markdown",
   "metadata": {},
   "source": [
    "## Other examples: vectorized vs. devectorized operations\n",
    "\n",
    "Another example of the importance of spatial locality can be seen in vectorized operations.  For more information on this subject, see the blog post:\n",
    "\n",
    "* [More Dots: Syntactic Loop Fusion in Julia](https://julialang.org/blog/2017/01/moredots)\n",
    "\n",
    "Consider the following function, which computes $f(x) = 2x^2 - 3x + 4$ *element-wise* for an array of $x$ values:"
   ]
  },
  {
   "cell_type": "code",
   "execution_count": 19,
   "metadata": {},
   "outputs": [],
   "source": [
    "f_vec(x) = 2 * x.^2 .- 3 * x .+ 4\n",
    "f_devec(X) = f_vec.(X)\n",
    "\n",
    "X = rand(10^6);"
   ]
  },
  {
   "cell_type": "code",
   "execution_count": 20,
   "metadata": {},
   "outputs": [
    {
     "name": "stdout",
     "output_type": "stream",
     "text": [
      "  8.476 ms (9 allocations: 30.52 MiB)\n"
     ]
    }
   ],
   "source": [
    "@btime f_vec($X);"
   ]
  },
  {
   "cell_type": "code",
   "execution_count": 21,
   "metadata": {},
   "outputs": [
    {
     "name": "stdout",
     "output_type": "stream",
     "text": [
      "  1.341 ms (2 allocations: 7.63 MiB)\n"
     ]
    }
   ],
   "source": [
    "@btime f_devec($X);"
   ]
  },
  {
   "cell_type": "markdown",
   "metadata": {},
   "source": [
    "The `f_devec` function is about **5 times faster** than the vectorized version, and allocates about **1/4 the memory**.   That is because `f_vec` is effectively equivalent to:"
   ]
  },
  {
   "cell_type": "code",
   "execution_count": 22,
   "metadata": {},
   "outputs": [
    {
     "data": {
      "text/plain": [
       "f_vec_really (generic function with 1 method)"
      ]
     },
     "execution_count": 22,
     "metadata": {},
     "output_type": "execute_result"
    }
   ],
   "source": [
    "function f_vec_really(x)\n",
    "    tmp1 = x.^2\n",
    "    tmp2 = 2 * tmp1\n",
    "    tmp3 = 3 * x\n",
    "    tmp4 = tmp2 .- tmp3\n",
    "    tmp5 = tmp4 .+ 4\n",
    "    return tmp5\n",
    "end"
   ]
  },
  {
   "cell_type": "markdown",
   "metadata": {},
   "source": [
    "That is, each \"vectorized\" operation, like `x.^2`, while it is *individually fast*, does a *separate loop* over its data and *allocates a temporary array for the result*.  This is slow for three reasons:\n",
    "\n",
    "* It has poor temporal locality.\n",
    "* It is expensive to allocate all those temporary arrays.\n",
    "* The overhead of looping (incrementing/testing a counter, fetching elements `x[i]`, etcetera), is incurred multiple times rather than once.\n",
    "\n",
    "In Julia, there is a  syntax `2 .* x.^2 .- 3 .* x .+ 4`, or equivalently `@. 2x^2 - 3x + 4` in which the compiler is guaranteed to \"fuse\" the operations into a single loop, allocating no temporary arrays."
   ]
  }
 ],
 "metadata": {
  "kernelspec": {
   "display_name": "Julia 1.1.0",
   "language": "julia",
   "name": "julia-1.1"
  },
  "language_info": {
   "file_extension": ".jl",
   "mimetype": "application/julia",
   "name": "julia",
   "version": "1.1.0"
  }
 },
 "nbformat": 4,
 "nbformat_minor": 1
}
